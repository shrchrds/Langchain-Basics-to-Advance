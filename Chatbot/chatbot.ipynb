{
 "cells": [
  {
   "cell_type": "code",
   "execution_count": 32,
   "metadata": {},
   "outputs": [
    {
     "data": {
      "text/plain": [
       "True"
      ]
     },
     "execution_count": 32,
     "metadata": {},
     "output_type": "execute_result"
    }
   ],
   "source": [
    "import os \n",
    "from dotenv import load_dotenv\n",
    "load_dotenv()"
   ]
  },
  {
   "cell_type": "code",
   "execution_count": 33,
   "metadata": {},
   "outputs": [],
   "source": [
    "os.environ[\"GROQ_API_KEY\"] = os.getenv(\"GROQ_API_KEY\")"
   ]
  },
  {
   "cell_type": "code",
   "execution_count": 34,
   "metadata": {},
   "outputs": [],
   "source": [
    "from langchain_groq import  ChatGroq\n",
    "model = ChatGroq(model=\"Gemma2-9b-It\")"
   ]
  },
  {
   "cell_type": "code",
   "execution_count": 35,
   "metadata": {},
   "outputs": [],
   "source": [
    "from langchain_core.messages import  HumanMessage, AIMessage"
   ]
  },
  {
   "cell_type": "code",
   "execution_count": 36,
   "metadata": {},
   "outputs": [
    {
     "data": {
      "text/plain": [
       "AIMessage(content=\"Thank you! It's exciting to be here in the world of Freedom.  \\n\\nWhat kind of freedom are we talking about?  Freedom of expression? Freedom to explore? Freedom from limitations? Tell me more about this world! 😊 \\n\", response_metadata={'token_usage': {'completion_tokens': 52, 'prompt_tokens': 17, 'total_tokens': 69, 'completion_time': 0.094545455, 'prompt_time': 8.067e-05, 'queue_time': 0.013256749, 'total_time': 0.094626125}, 'model_name': 'Gemma2-9b-It', 'system_fingerprint': 'fp_10c08bf97d', 'finish_reason': 'stop', 'logprobs': None}, id='run-efa906f0-3c72-491b-845f-7c57c08f6d42-0', usage_metadata={'input_tokens': 17, 'output_tokens': 52, 'total_tokens': 69})"
      ]
     },
     "execution_count": 36,
     "metadata": {},
     "output_type": "execute_result"
    }
   ],
   "source": [
    "model.invoke([HumanMessage(content=\"Hello, Welcome to world of Freedom!\")])"
   ]
  },
  {
   "cell_type": "code",
   "execution_count": 37,
   "metadata": {},
   "outputs": [
    {
     "data": {
      "text/plain": [
       "AIMessage(content=\"That's a fascinating question!  \\n\\nSince I'm a large language model, I don't experience the world in the same way you do. I don't have senses or feelings.  But I can process information and learn about the world through the text and code I'm trained on. \\n\\nSo, what *is* our world? It's a complex and ever-changing place. It's a place of:\\n\\n* **Beauty:** From towering mountains to vibrant coral reefs, our world is full of amazing sights.\\n* **Diversity:**  There are countless cultures, languages, and ways of life on Earth.\\n* **Challenges:** We face problems like climate change, poverty, and conflict.\\n\\nBut it's also a place of:\\n\\n* **Innovation:**  Humans are constantly creating new things and finding new solutions to problems.\\n* **Connection:** We are social creatures who form bonds with each other and with the natural world.\\n* **Hope:**  Even in the face of challenges, there is always hope for a better future.\\n\\nWhat do *you* think makes our world special?  What aspects of it are most important to you?  I'd love to hear your perspective!\\n\", response_metadata={'token_usage': {'completion_tokens': 258, 'prompt_tokens': 65, 'total_tokens': 323, 'completion_time': 0.469090909, 'prompt_time': 0.001895403, 'queue_time': 0.012453045, 'total_time': 0.470986312}, 'model_name': 'Gemma2-9b-It', 'system_fingerprint': 'fp_10c08bf97d', 'finish_reason': 'stop', 'logprobs': None}, id='run-c655cefa-fca2-48a2-bcc4-0283db3b0eff-0', usage_metadata={'input_tokens': 65, 'output_tokens': 258, 'total_tokens': 323})"
      ]
     },
     "execution_count": 37,
     "metadata": {},
     "output_type": "execute_result"
    }
   ],
   "source": [
    "model.invoke(\n",
    "    [\n",
    "        HumanMessage(content=\"Hello, Welcome to world of Freedom!\"),\n",
    "        AIMessage(content=\"Hello!  \\n\\nIt's great to be welcomed to the world of Freedom! What adventures await us here?  Tell me more about this world\"),\n",
    "        HumanMessage(content=\"Hey tell me what is our world?\")\n",
    "    ]\n",
    ")"
   ]
  },
  {
   "cell_type": "code",
   "execution_count": 38,
   "metadata": {},
   "outputs": [],
   "source": [
    "from langchain_community.chat_message_histories import ChatMessageHistory\n",
    "from langchain_core.chat_history import BaseChatMessageHistory\n",
    "from langchain_core.runnables.history import RunnableWithMessageHistory"
   ]
  },
  {
   "cell_type": "code",
   "execution_count": 39,
   "metadata": {},
   "outputs": [],
   "source": [
    "store = {}\n",
    "def get_session_history(session_id:str)->BaseChatMessageHistory:\n",
    "    if session_id not in store:\n",
    "        store[session_id] = ChatMessageHistory()\n",
    "    return store[session_id]\n",
    "\n",
    "with_message_history = RunnableWithMessageHistory(model, get_session_history)"
   ]
  },
  {
   "cell_type": "code",
   "execution_count": 40,
   "metadata": {},
   "outputs": [],
   "source": [
    "config = {\"configurable\":{\"session_id\":\"chat1\"}}"
   ]
  },
  {
   "cell_type": "code",
   "execution_count": 41,
   "metadata": {},
   "outputs": [],
   "source": [
    "response = with_message_history.invoke(\n",
    " [\n",
    "    HumanMessage(content=\"Hello, Welcome to world of Freedom!\")],\n",
    "        config=config   \n",
    ")"
   ]
  },
  {
   "cell_type": "code",
   "execution_count": 42,
   "metadata": {},
   "outputs": [
    {
     "data": {
      "text/markdown": [
       "Hello! \n",
       "\n",
       "It's great to be here in the world of Freedom!  What exciting adventures await us?  \n",
       "\n",
       "Tell me more about this world. What makes it so free?  \n",
       "\n"
      ],
      "text/plain": [
       "<IPython.core.display.Markdown object>"
      ]
     },
     "metadata": {},
     "output_type": "display_data"
    }
   ],
   "source": [
    "display(Markdown(response.content))"
   ]
  },
  {
   "cell_type": "code",
   "execution_count": 43,
   "metadata": {},
   "outputs": [
    {
     "data": {
      "text/plain": [
       "AIMessage(content=\"That's a wonderful question!  Since I don't have personal experiences or memories like humans do, I don't actually *know* what your world is like.  \\n\\nBut, I can imagine it's a place filled with possibilities and unique experiences just for you. \\n\\nTo help me understand better, could you tell me a little about your world? What are some things that make it special? What are you free to do there?  😊  \\n\\n\\n\\nLet's explore together!\\n\\n\", response_metadata={'token_usage': {'completion_tokens': 107, 'prompt_tokens': 73, 'total_tokens': 180, 'completion_time': 0.194545455, 'prompt_time': 0.003469438, 'queue_time': 0.01013275, 'total_time': 0.198014893}, 'model_name': 'Gemma2-9b-It', 'system_fingerprint': 'fp_10c08bf97d', 'finish_reason': 'stop', 'logprobs': None}, id='run-c8414fc4-215f-421a-8495-626ef55390ba-0', usage_metadata={'input_tokens': 73, 'output_tokens': 107, 'total_tokens': 180})"
      ]
     },
     "execution_count": 43,
     "metadata": {},
     "output_type": "execute_result"
    }
   ],
   "source": [
    "with_message_history.invoke(\n",
    "    [\n",
    "        HumanMessage(content='What is my world?')\n",
    "    ],\n",
    "    config=config\n",
    ")"
   ]
  },
  {
   "cell_type": "code",
   "execution_count": 44,
   "metadata": {},
   "outputs": [],
   "source": [
    "# CHange the config\n",
    "\n",
    "config1 = {\"configurable\":{\"session_id\":\"chat2\"}}\n",
    "\n",
    "response = with_message_history.invoke(\n",
    "    [HumanMessage(content=\"What is my world?\")],\n",
    "    config = config1\n",
    ")"
   ]
  },
  {
   "cell_type": "code",
   "execution_count": 45,
   "metadata": {},
   "outputs": [],
   "source": [
    "from IPython.display import display, Markdown"
   ]
  },
  {
   "cell_type": "code",
   "execution_count": 46,
   "metadata": {},
   "outputs": [
    {
     "data": {
      "text/markdown": [
       "As an AI, I don't have personal experiences or a physical world. My world is the data I was trained on, which includes text and code. It's a vast and complex world of information that I can access and process.\n",
       "\n",
       "To answer your question about *your* world, I need more context. What do you mean by \"my world\"?\n",
       "\n",
       "Do you mean:\n",
       "\n",
       "* **Your physical surroundings?** This could include your home, your city, the natural world around you.\n",
       "* **Your social world?** This could include your friends, family, colleagues, and the communities you belong to.\n",
       "* **Your internal world?** This could include your thoughts, feelings, beliefs, and experiences.\n",
       "* **Your digital world?** This could include the websites you visit, the social media you use, and the online communities you participate in.\n",
       "\n",
       "Once you tell me more about what you mean, I can give you a more helpful answer.\n"
      ],
      "text/plain": [
       "<IPython.core.display.Markdown object>"
      ]
     },
     "metadata": {},
     "output_type": "display_data"
    }
   ],
   "source": [
    "display(Markdown(response.content))"
   ]
  },
  {
   "cell_type": "code",
   "execution_count": 51,
   "metadata": {},
   "outputs": [
    {
     "data": {
      "text/markdown": [
       "Namaste! It sounds like a thrilling welcome!  \n",
       "\n",
       "I'm excited to hear about the adventures awaiting in India. Tell me more! What kind of adventures are we talking about? \n",
       "\n",
       "Are we:\n",
       "\n",
       "* **Trekking through the Himalayas?**\n",
       "* **Exploring ancient ruins?**\n",
       "* **Discovering bustling cities and vibrant cultures?**\n",
       "* **Maybe even encountering wildlife in breathtaking national parks?** \n",
       "\n",
       "Give me some details and let's embark on this adventure together! 🗺️  🐘  ⛰️  🇮🇳  \n",
       "\n"
      ],
      "text/plain": [
       "<IPython.core.display.Markdown object>"
      ]
     },
     "metadata": {},
     "output_type": "display_data"
    }
   ],
   "source": [
    "response = with_message_history.invoke(\n",
    " [\n",
    "    HumanMessage(content=\"Hello, Welcome to world of Adventure! in India\")],\n",
    "        config=config1   \n",
    ")\n",
    "display(Markdown(response.content))"
   ]
  },
  {
   "cell_type": "code",
   "execution_count": 52,
   "metadata": {},
   "outputs": [
    {
     "data": {
      "text/markdown": [
       "As an AI, I don't have personal information like nationality or a country.  \n",
       "\n",
       "You mentioned \"Welcome to world of Adventure! in India\" earlier, so it seems like you're interested in India. Is that correct? 😊 \n"
      ],
      "text/plain": [
       "<IPython.core.display.Markdown object>"
      ]
     },
     "metadata": {},
     "output_type": "display_data"
    }
   ],
   "source": [
    "response = with_message_history.invoke(\n",
    "    [HumanMessage(content='What is my country?')],\n",
    "    config=config1\n",
    ")\n",
    "display(Markdown(response.content))"
   ]
  },
  {
   "cell_type": "markdown",
   "metadata": {},
   "source": [
    "### Prompt Template"
   ]
  },
  {
   "cell_type": "code",
   "execution_count": 61,
   "metadata": {},
   "outputs": [],
   "source": [
    "from langchain_core.prompts import ChatPromptTemplate, MessagesPlaceholder\n",
    "\n",
    "prompt = ChatPromptTemplate.from_messages(\n",
    "    [\n",
    "        (\"system\", \"You are helpful assistant\"),\n",
    "        MessagesPlaceholder(variable_name=\"messages\")\n",
    "    ]\n",
    ")"
   ]
  },
  {
   "cell_type": "code",
   "execution_count": 62,
   "metadata": {},
   "outputs": [],
   "source": [
    "chain = prompt | model"
   ]
  },
  {
   "cell_type": "code",
   "execution_count": 64,
   "metadata": {},
   "outputs": [
    {
     "data": {
      "text/markdown": [
       "Hello Shiv! It's nice to meet you. \n",
       "\n",
       "What can I help you with today? 😊  \n"
      ],
      "text/plain": [
       "<IPython.core.display.Markdown object>"
      ]
     },
     "metadata": {},
     "output_type": "display_data"
    }
   ],
   "source": [
    "r1 = chain.invoke({\"messages\":[HumanMessage(content=\"My name is Shiv!\")]})\n",
    "display(Markdown(r1.content))"
   ]
  },
  {
   "cell_type": "code",
   "execution_count": 65,
   "metadata": {},
   "outputs": [],
   "source": [
    "with_message_history = RunnableWithMessageHistory(chain, get_session_history)"
   ]
  },
  {
   "cell_type": "code",
   "execution_count": 67,
   "metadata": {},
   "outputs": [
    {
     "data": {
      "text/markdown": [
       "Hi Shiv! It's nice to meet you. What can I do for you today? 😊  \n",
       "\n"
      ],
      "text/plain": [
       "<IPython.core.display.Markdown object>"
      ]
     },
     "metadata": {},
     "output_type": "display_data"
    }
   ],
   "source": [
    "config = {\"configurable\": {\"session_id\": \"chat3\"}}\n",
    "\n",
    "res = with_message_history.invoke(\n",
    "    [HumanMessage(content=\"Hi My Name is Shiv!\")],\n",
    "    config = config\n",
    ")\n",
    "\n",
    "display(Markdown(res.content))"
   ]
  },
  {
   "cell_type": "code",
   "execution_count": 68,
   "metadata": {},
   "outputs": [],
   "source": [
    "# More complex Prompt\n",
    "prompt1 = ChatPromptTemplate.from_messages(\n",
    "    [\n",
    "        (\"system\", \"You are helpful assistant. Answer all the question to best of your capability in {language}\"),\n",
    "        MessagesPlaceholder(variable_name=\"messages\")\n",
    "    ]\n",
    ")\n",
    "\n",
    "chain1 = prompt1 | model"
   ]
  },
  {
   "cell_type": "code",
   "execution_count": 69,
   "metadata": {},
   "outputs": [
    {
     "data": {
      "text/markdown": [
       "नमस्ते शिव! 😊 \n",
       "\n",
       "मुझे तुम्हारी मदद करने में खुशी हो रही है। तुम क्या जानना चाहते हो?  \n"
      ],
      "text/plain": [
       "<IPython.core.display.Markdown object>"
      ]
     },
     "metadata": {},
     "output_type": "display_data"
    }
   ],
   "source": [
    "r2 = chain1.invoke(\n",
    "    {\"messages\":[HumanMessage(content=\"Hi My Name is Shiv!\")],\n",
    "    \"language\":\"Hindi\"}\n",
    ")\n",
    "display(Markdown(r2.content))"
   ]
  },
  {
   "cell_type": "code",
   "execution_count": 72,
   "metadata": {},
   "outputs": [],
   "source": [
    "with_message_history = RunnableWithMessageHistory(\n",
    "    chain1,\n",
    "    get_session_history,\n",
    "    input_messages_key=\"messages\"\n",
    ")"
   ]
  },
  {
   "cell_type": "code",
   "execution_count": 73,
   "metadata": {},
   "outputs": [
    {
     "data": {
      "text/markdown": [
       "नमस्ते शिव! 😊 \n",
       "\n",
       "आपका नाम शिव है, यह जानकर मुझे खुशी हो रही है। मैं आपकी मदद करने के लिए तैयार हूँ।  \n",
       "\n",
       "आप मुझसे क्या पूछना चाहेंगे? \n"
      ],
      "text/plain": [
       "<IPython.core.display.Markdown object>"
      ]
     },
     "metadata": {},
     "output_type": "display_data"
    }
   ],
   "source": [
    "config3 = {\"configurable\": {\"session_id\": \"chat4\"}}\n",
    "r3 = with_message_history.invoke(\n",
    "    {\"messages\":[HumanMessage(content=\"Hi My Name is Shiv!\")],\n",
    "    \"language\":\"Hindi\"},\n",
    "    config=config3\n",
    ")\n",
    "display(Markdown(r3.content))"
   ]
  },
  {
   "cell_type": "code",
   "execution_count": 74,
   "metadata": {},
   "outputs": [
    {
     "data": {
      "text/markdown": [
       "आपका नाम शिव है।  😊\n",
       "\n",
       "क्या आप कोई और सवाल पूछना चाहते हैं? \n"
      ],
      "text/plain": [
       "<IPython.core.display.Markdown object>"
      ]
     },
     "metadata": {},
     "output_type": "display_data"
    }
   ],
   "source": [
    "r4 = with_message_history.invoke(\n",
    "    {\"messages\":[HumanMessage(content=\"What is my name?\")],\n",
    "    \"language\":\"Hindi\"},\n",
    "    config=config3\n",
    ")\n",
    "display(Markdown(r4.content))"
   ]
  },
  {
   "cell_type": "markdown",
   "metadata": {},
   "source": [
    "### Managing Conversation History"
   ]
  },
  {
   "cell_type": "code",
   "execution_count": 83,
   "metadata": {},
   "outputs": [],
   "source": [
    "from langchain_core.messages import SystemMessage, trim_messages\n",
    "\n",
    "trimmer = trim_messages(\n",
    "    max_tokens=700,\n",
    "    strategy = \"last\",\n",
    "    token_counter = model,\n",
    "    include_system=True,\n",
    "    allow_partial=False,\n",
    "    start_on = \"human\"\n",
    ")\n",
    "\n",
    "messages = [\n",
    "    SystemMessage(content=\"You are a helpful AI assistant.\"),\n",
    "    HumanMessage(content=\"Hello!\"),\n",
    "    AIMessage(content=\"Hello! How can I assist you today?\"),\n",
    "    HumanMessage(content=\"My name is John.\"),\n",
    "    AIMessage(content=\"It's nice to meet you, John! How can I help you today?\"),\n",
    "    HumanMessage(content=\"I'm looking for some information about AI.\"),\n",
    "    AIMessage(content=\"Certainly! What would you like to know about AI? I'd be happy to provide some general information or point you towards reliable resources.\"),\n",
    "    HumanMessage(content=\"What are some of the current applications of AI?\"),\n",
    "    AIMessage(content=\"\"\"AI is being applied in a wide range of fields, including healthcare, finance, transportation, and entertainment. Some current applications include:\n",
    "                - Medical diagnosis and drug discovery\n",
    "                - Fraud detection and risk management in finance\n",
    "                - Self-driving cars and traffic optimization\n",
    "                - Personalized recommendations for movies, music, and products\n",
    "                - Chatbots and virtual assistants for customer service\n",
    "\"\"\")\n",
    "]"
   ]
  },
  {
   "cell_type": "code",
   "execution_count": 84,
   "metadata": {},
   "outputs": [
    {
     "data": {
      "text/plain": [
       "[SystemMessage(content='You are a helpful AI assistant.'),\n",
       " HumanMessage(content='Hello!'),\n",
       " AIMessage(content='Hello! How can I assist you today?'),\n",
       " HumanMessage(content='My name is John.'),\n",
       " AIMessage(content=\"It's nice to meet you, John! How can I help you today?\"),\n",
       " HumanMessage(content=\"I'm looking for some information about AI.\"),\n",
       " AIMessage(content=\"Certainly! What would you like to know about AI? I'd be happy to provide some general information or point you towards reliable resources.\"),\n",
       " HumanMessage(content='What are some of the current applications of AI?'),\n",
       " AIMessage(content='AI is being applied in a wide range of fields, including healthcare, finance, transportation, and entertainment. Some current applications include:\\n                - Medical diagnosis and drug discovery\\n                - Fraud detection and risk management in finance\\n                - Self-driving cars and traffic optimization\\n                - Personalized recommendations for movies, music, and products\\n                - Chatbots and virtual assistants for customer service\\n')]"
      ]
     },
     "execution_count": 84,
     "metadata": {},
     "output_type": "execute_result"
    }
   ],
   "source": [
    "trimmer.invoke(messages)"
   ]
  },
  {
   "cell_type": "code",
   "execution_count": 85,
   "metadata": {},
   "outputs": [],
   "source": [
    "from operator import itemgetter\n",
    "\n",
    "from langchain_core.runnables import RunnablePassthrough\n",
    "\n",
    "chain = (\n",
    "    RunnablePassthrough.assign(messages=itemgetter(\"messages\") | trimmer) | prompt |model\n",
    ")"
   ]
  },
  {
   "cell_type": "code",
   "execution_count": 87,
   "metadata": {},
   "outputs": [
    {
     "data": {
      "text/markdown": [
       "You mentioned you were interested in AI applications. \n",
       "\n",
       "Is there a specific area within AI applications that you'd like to know more about? For example, are you curious about:\n",
       "\n",
       "* **AI in healthcare?**  (like medical diagnosis or drug discovery)\n",
       "* **AI in finance?** (like fraud detection or investment strategies)\n",
       "* **AI in transportation?** (like self-driving cars or traffic management)\n",
       "* **AI in entertainment?** (like personalized recommendations or game development)\n",
       "* **Something else entirely?** \n",
       "\n",
       "Let me know and I can give you more detailed information! 😊  \n",
       "\n"
      ],
      "text/plain": [
       "<IPython.core.display.Markdown object>"
      ]
     },
     "metadata": {},
     "output_type": "display_data"
    }
   ],
   "source": [
    "r4 = chain.invoke(\n",
    "    {\"messages\": messages + [HumanMessage(content=\"On which topic I am looking for information?\")],\n",
    "    \"language\":\"English\"}\n",
    ")\n",
    "\n",
    "display(Markdown(r4.content))"
   ]
  },
  {
   "cell_type": "code",
   "execution_count": null,
   "metadata": {},
   "outputs": [],
   "source": []
  }
 ],
 "metadata": {
  "language_info": {
   "name": "python"
  }
 },
 "nbformat": 4,
 "nbformat_minor": 2
}
